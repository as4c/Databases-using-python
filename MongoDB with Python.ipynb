{
 "cells": [
  {
   "cell_type": "code",
   "execution_count": 1,
   "id": "88ab1313",
   "metadata": {},
   "outputs": [
    {
     "name": "stdout",
     "output_type": "stream",
     "text": [
      "Requirement already satisfied: pymongo in c:\\users\\user\\anaconda3\\lib\\site-packages (3.12.0)\n"
     ]
    }
   ],
   "source": [
    "!python -m pip install pymongo"
   ]
  },
  {
   "cell_type": "code",
   "execution_count": 2,
   "id": "440de631",
   "metadata": {},
   "outputs": [],
   "source": [
    "import pymongo"
   ]
  },
  {
   "cell_type": "code",
   "execution_count": 2,
   "id": "2b59c6ee",
   "metadata": {},
   "outputs": [
    {
     "name": "stdout",
     "output_type": "stream",
     "text": [
      "[ObjectId('6176ea9fbebb2220686fce0f'), ObjectId('6176ea9fbebb2220686fce10'), ObjectId('6176ea9fbebb2220686fce11'), ObjectId('6176ea9fbebb2220686fce12'), ObjectId('6176ea9fbebb2220686fce13'), ObjectId('6176ea9fbebb2220686fce14')]\n"
     ]
    }
   ],
   "source": [
    "import pymongo\n",
    "\n",
    "new_client = pymongo.MongoClient('mongodb://localhost:27017/')\n",
    "\n",
    "new_db = new_client['data_test']\n",
    "\n",
    "new_col = new_db['students']\n",
    "\n",
    "new_list = [\n",
    "  { \"name\": \"student00\", \"code\": \"code00\" },\n",
    "  { \"name\": \"student01\", \"code\": \"code01\" },\n",
    "  { \"name\": \"student02\", \"code\": \"code02\" },\n",
    "  { \"name\": \"student03\", \"code\": \"code03\" },\n",
    "  { \"name\": \"student04\", \"code\": \"code04\" },\n",
    "  { \"name\": \"student05\", \"code\": \"code05\" }\n",
    "]\n",
    "\n",
    "adding_many = new_col.insert_many(new_list)\n",
    "\n",
    "print(adding_many.inserted_ids)"
   ]
  },
  {
   "cell_type": "markdown",
   "id": "5823d3cd",
   "metadata": {},
   "source": [
    "# Specified IDs"
   ]
  }
 ],
 "metadata": {
  "kernelspec": {
   "display_name": "Python 3",
   "language": "python",
   "name": "python3"
  },
  "language_info": {
   "codemirror_mode": {
    "name": "ipython",
    "version": 3
   },
   "file_extension": ".py",
   "mimetype": "text/x-python",
   "name": "python",
   "nbconvert_exporter": "python",
   "pygments_lexer": "ipython3",
   "version": "3.8.8"
  }
 },
 "nbformat": 4,
 "nbformat_minor": 5
}
