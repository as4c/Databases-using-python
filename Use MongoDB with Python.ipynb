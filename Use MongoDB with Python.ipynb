{
 "cells": [
  {
   "cell_type": "code",
   "execution_count": 1,
   "id": "242057d1",
   "metadata": {},
   "outputs": [
    {
     "name": "stdout",
     "output_type": "stream",
     "text": [
      "[ObjectId('6177cdf9b9472198b3e8cefc'), ObjectId('6177cdf9b9472198b3e8cefd'), ObjectId('6177cdf9b9472198b3e8cefe'), ObjectId('6177cdf9b9472198b3e8ceff'), ObjectId('6177cdf9b9472198b3e8cf00'), ObjectId('6177cdf9b9472198b3e8cf01')]\n"
     ]
    }
   ],
   "source": [
    "import pymongo\n",
    "\n",
    "new_client = pymongo.MongoClient('mongodb://localhost:27017/')\n",
    "\n",
    "new_db = new_client['new_data']\n",
    "\n",
    "new_col = new_db['students']\n",
    "\n",
    "list_of_students = [\n",
    "    { \"name\": \"student00\", \"code\": \"code00\" },\n",
    "    { \"name\": \"student01\", \"code\": \"code01\" },\n",
    "    { \"name\": \"student02\", \"code\": \"code02\" },\n",
    "    { \"name\": \"student03\", \"code\": \"code03\" },\n",
    "    { \"name\": \"student04\", \"code\": \"code04\" },\n",
    "    { \"name\": \"student05\", \"code\": \"code05\" }\n",
    "]\n",
    "\n",
    "adding_many = new_col.insert_many(list_of_students)\n",
    "\n",
    "print(adding_many.inserted_ids)"
   ]
  },
  {
   "cell_type": "code",
   "execution_count": 2,
   "id": "25f69771",
   "metadata": {},
   "outputs": [
    {
     "name": "stdout",
     "output_type": "stream",
     "text": [
      "[1, 2, 3, 4, 5, 6]\n"
     ]
    }
   ],
   "source": [
    "import pymongo\n",
    "\n",
    "new_client = pymongo.MongoClient('mongodb://localhost:27017/')\n",
    "\n",
    "new_db = new_client['new_data']\n",
    "\n",
    "new_col = new_db['new_students']\n",
    "\n",
    "list_of_students = [\n",
    "    { \"_id\": 1, \"name\": \"student00\", \"code\": \"code00\" },\n",
    "    { \"_id\": 2, \"name\": \"student01\", \"code\": \"code01\" },\n",
    "    { \"_id\": 3, \"name\": \"student02\", \"code\": \"code02\" },\n",
    "    { \"_id\": 4, \"name\": \"student03\", \"code\": \"code03\" },\n",
    "    { \"_id\": 5, \"name\": \"student04\", \"code\": \"code04\" },\n",
    "    { \"_id\": 6, \"name\": \"student05\", \"code\": \"code05\" }\n",
    "]\n",
    "\n",
    "adding_many = new_col.insert_many(list_of_students)\n",
    "\n",
    "print(adding_many.inserted_ids)"
   ]
  },
  {
   "cell_type": "code",
   "execution_count": 3,
   "id": "98edc072",
   "metadata": {},
   "outputs": [
    {
     "name": "stdout",
     "output_type": "stream",
     "text": [
      "{'_id': 1, 'name': 'student00', 'code': 'code00'}\n"
     ]
    }
   ],
   "source": [
    "finding = new_col.find_one()\n",
    "print(finding)"
   ]
  },
  {
   "cell_type": "code",
   "execution_count": 4,
   "id": "f4b88abb",
   "metadata": {},
   "outputs": [
    {
     "name": "stdout",
     "output_type": "stream",
     "text": [
      "{'_id': 1, 'name': 'student00', 'code': 'code00'}\n",
      "{'_id': 2, 'name': 'student01', 'code': 'code01'}\n",
      "{'_id': 3, 'name': 'student02', 'code': 'code02'}\n",
      "{'_id': 4, 'name': 'student03', 'code': 'code03'}\n",
      "{'_id': 5, 'name': 'student04', 'code': 'code04'}\n",
      "{'_id': 6, 'name': 'student05', 'code': 'code05'}\n"
     ]
    }
   ],
   "source": [
    "for docu in new_col.find():\n",
    "    print(docu)"
   ]
  },
  {
   "cell_type": "code",
   "execution_count": 8,
   "id": "b47ebd8c",
   "metadata": {},
   "outputs": [
    {
     "name": "stdout",
     "output_type": "stream",
     "text": [
      "{'_id': 1, 'name': 'student00', 'code': 'code00'}\n",
      "{'_id': 2, 'name': 'student01', 'code': 'code01'}\n",
      "{'_id': 3, 'name': 'student02', 'code': 'code02'}\n",
      "{'_id': 4, 'name': 'student03', 'code': 'code03'}\n",
      "{'_id': 5, 'name': 'student04', 'code': 'code04'}\n",
      "{'_id': 6, 'name': 'student05', 'code': 'code05'}\n"
     ]
    }
   ],
   "source": [
    "import pymongo\n",
    "\n",
    "new_client = pymongo.MongoClient('mongodb://localhost:27017/')\n",
    "\n",
    "new_db = new_client['new_data']\n",
    "\n",
    "new_col = new_db['new_students']\n",
    "\n",
    "new_query = { \"code\": {\"$gt\": \"code\"} }\n",
    "\n",
    "new_doc = new_col.find(new_query)\n",
    "\n",
    "for x in new_doc:\n",
    "  print(x)"
   ]
  },
  {
   "cell_type": "code",
   "execution_count": 10,
   "id": "0ac23ce4",
   "metadata": {},
   "outputs": [
    {
     "name": "stdout",
     "output_type": "stream",
     "text": [
      "{'_id': 6, 'name': 'student05', 'code': 'code05'}\n",
      "{'_id': 5, 'name': 'student04', 'code': 'code04'}\n",
      "{'_id': 4, 'name': 'student03', 'code': 'code03'}\n",
      "{'_id': 3, 'name': 'student02', 'code': 'code02'}\n",
      "{'_id': 2, 'name': 'student01', 'code': 'code01'}\n",
      "{'_id': 1, 'name': 'student00', 'code': 'code00'}\n"
     ]
    }
   ],
   "source": [
    "new_query = new_col.find().sort(\"name\", -1)\n",
    "\n",
    "for n in new_query:\n",
    "    print(n)"
   ]
  },
  {
   "cell_type": "code",
   "execution_count": 11,
   "id": "df0c9c20",
   "metadata": {},
   "outputs": [
    {
     "name": "stdout",
     "output_type": "stream",
     "text": [
      "{'_id': 1, 'name': 'student00', 'code': 'code00'}\n",
      "{'_id': 3, 'name': 'student02', 'code': 'code02'}\n",
      "{'_id': 4, 'name': 'student03', 'code': 'code03'}\n",
      "{'_id': 5, 'name': 'student04', 'code': 'code04'}\n",
      "{'_id': 6, 'name': 'student05', 'code': 'code05'}\n"
     ]
    }
   ],
   "source": [
    "new_query = {\"code\": \"code01\"}\n",
    "\n",
    "new_col.delete_one(new_query)\n",
    "\n",
    "for x in new_col.find():\n",
    "    print(x)"
   ]
  },
  {
   "cell_type": "code",
   "execution_count": 13,
   "id": "f55411c8",
   "metadata": {},
   "outputs": [
    {
     "name": "stdout",
     "output_type": "stream",
     "text": [
      "1 documents deleted from the collection!\n"
     ]
    }
   ],
   "source": [
    "new_q = {\"code\": {\"$regex\": \"^code03\"}}\n",
    "\n",
    "x = new_col.delete_many(new_q)\n",
    "\n",
    "print(x.deleted_count, \"documents deleted from the collection!\")"
   ]
  },
  {
   "cell_type": "code",
   "execution_count": 14,
   "id": "cb272706",
   "metadata": {},
   "outputs": [
    {
     "name": "stdout",
     "output_type": "stream",
     "text": [
      "4 documents deleted from the collection\n"
     ]
    }
   ],
   "source": [
    "remove_all = new_col.delete_many({})\n",
    "\n",
    "print(remove_all.deleted_count, \"documents deleted from the collection\")"
   ]
  },
  {
   "cell_type": "code",
   "execution_count": 15,
   "id": "03ea7050",
   "metadata": {},
   "outputs": [],
   "source": [
    "new_col.drop()"
   ]
  },
  {
   "cell_type": "code",
   "execution_count": 16,
   "id": "972699cc",
   "metadata": {},
   "outputs": [],
   "source": [
    "import pymongo\n",
    "\n",
    "new_client = pymongo.MongoClient('mongodb://localhost:27017/')\n",
    "\n",
    "new_db = new_client['new_data']\n",
    "\n",
    "new_col = new_db['new_students']\n",
    "\n",
    "list_of_students = [\n",
    "    { \"_id\": 1, \"name\": \"student00\", \"code\": \"code00\" },\n",
    "    { \"_id\": 2, \"name\": \"student01\", \"code\": \"code01\" },\n",
    "    { \"_id\": 3, \"name\": \"student02\", \"code\": \"code02\" },\n",
    "    { \"_id\": 4, \"name\": \"student03\", \"code\": \"code03\" },\n",
    "    { \"_id\": 5, \"name\": \"student04\", \"code\": \"code04\" },\n",
    "    { \"_id\": 6, \"name\": \"student05\", \"code\": \"code05\" }\n",
    "]\n",
    "\n",
    "adding_many = new_col.insert_many(list_of_students)"
   ]
  },
  {
   "cell_type": "code",
   "execution_count": 18,
   "id": "93eb2c2b",
   "metadata": {},
   "outputs": [
    {
     "name": "stdout",
     "output_type": "stream",
     "text": [
      "{'_id': 1, 'name': 'student00', 'code': 'codeZero'}\n",
      "{'_id': 2, 'name': 'student01', 'code': 'code01'}\n",
      "{'_id': 3, 'name': 'student02', 'code': 'code02'}\n",
      "{'_id': 4, 'name': 'student03', 'code': 'code03'}\n",
      "{'_id': 5, 'name': 'student04', 'code': 'code04'}\n",
      "{'_id': 6, 'name': 'student05', 'code': 'code05'}\n"
     ]
    }
   ],
   "source": [
    "new_q = { \"code\": \"code00\" }\n",
    "new_vals = { \"$set\": {\"code\": \"codeZero\"} }\n",
    "\n",
    "new_col.update_one(new_q, new_vals)\n",
    "\n",
    "for x in new_col.find():\n",
    "    print(x)"
   ]
  },
  {
   "cell_type": "code",
   "execution_count": 19,
   "id": "2da09fd2",
   "metadata": {},
   "outputs": [
    {
     "name": "stdout",
     "output_type": "stream",
     "text": [
      "{'_id': 1, 'name': 'student00', 'code': 'codeZero'}\n",
      "{'_id': 2, 'name': 'student01', 'code': 'code01'}\n",
      "{'_id': 3, 'name': 'student02', 'code': 'code02'}\n"
     ]
    }
   ],
   "source": [
    "result_filter = new_col.find().limit(3)\n",
    "\n",
    "for x in result_filter:\n",
    "    print(x)"
   ]
  },
  {
   "cell_type": "code",
   "execution_count": null,
   "id": "ca8451ea",
   "metadata": {},
   "outputs": [],
   "source": []
  }
 ],
 "metadata": {
  "kernelspec": {
   "display_name": "Python 3",
   "language": "python",
   "name": "python3"
  },
  "language_info": {
   "codemirror_mode": {
    "name": "ipython",
    "version": 3
   },
   "file_extension": ".py",
   "mimetype": "text/x-python",
   "name": "python",
   "nbconvert_exporter": "python",
   "pygments_lexer": "ipython3",
   "version": "3.8.8"
  }
 },
 "nbformat": 4,
 "nbformat_minor": 5
}
